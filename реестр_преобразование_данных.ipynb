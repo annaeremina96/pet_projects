{
 "cells": [
  {
   "cell_type": "code",
   "execution_count": 230,
   "id": "43bfa034",
   "metadata": {},
   "outputs": [],
   "source": [
    "import pandas as pd\n",
    "import re\n",
    "\n",
    "def read_and_transform_excel(file_path):\n",
    "    # Чтение файла Excel\n",
    "    df = pd.read_excel(file_path)\n",
    "\n",
    "    # Преобразование объединенных строк\n",
    "    new_rows = []\n",
    "    fio = \"\"\n",
    "    for index, row in df.iterrows():\n",
    "        if not pd.isna(row[0]): \n",
    "            fio = row[0]  # Значение первой ячейки становится ФИО (и полис, и ним разберемся позже)\n",
    "        if pd.isna(row[6]): # Дальше ищем дату там, где 6 столбец пустой\n",
    "            date_match = re.search(r'\\d{2}\\.\\d{2}\\.\\d{4}', str(row[1]))  \n",
    "            date = date_match.group(0) if date_match else \"\"  # Если нашли дату, сохраняем ее, иначе пустая строка\n",
    "        new_row = [fio, date] + list(row[1:])  # Создаем новую строку с ФИО, датой и значениями из остальных столбцов\n",
    "        new_rows.append(new_row)\n",
    "\n",
    "    # Создание нового DataFrame с преобразованными строками\n",
    "    new_df = pd.DataFrame(new_rows, columns=[\"ФИО\", \"Дата оказания услуги\"] + list(df.columns[1:]))\n",
    "    \n",
    "    # Переименовываем колонки как требуется\n",
    "    new_df.rename(columns={\"Код \\nуслуги\": \"Код услуги\", \"Название услуги\": \"Наименование услуги\", \"Кол-\\nво\": \"Кол-во\"}, inplace=True)\n",
    "\n",
    "    # Упорядочивание столбцов в нужном порядке\n",
    "    ordered_columns = [\"Код услуги\", \"Диагноз\", \"Наименование услуги\", \"Кол-во\", \"Цена по прейскуранту\", \"Сумма со скидкой\"]\n",
    "    new_df = new_df[[\"ФИО\", \"Дата оказания услуги\"] + ordered_columns]\n",
    "    \n",
    "    # Преобразуем данные под нужный вид (убираем пропуски, меняем тип данных)\n",
    "    new_df = new_df.dropna(subset = [\"Код услуги\", \"Диагноз\", \"Наименование услуги\", \"Кол-во\", \"Цена по прейскуранту\", \"Сумма со скидкой\"])\n",
    "    new_df[[\"Кол-во\", \"Цена по прейскуранту\", \"Сумма со скидкой\"]] = new_df[[\"Кол-во\", \"Цена по прейскуранту\", \"Сумма со скидкой\"]].astype(int)\n",
    "    \n",
    "    # Делим столбец на ФИО и Номер полиса\n",
    "    new_df['Номер полиса'] = new_df['ФИО'].str.extract(r'Полис № (\\d+-\\d+/\\d+)')\n",
    "    new_df['ФИО'] = new_df['ФИО'].apply(lambda x: x.split(' Полис')[0])\n",
    "    \n",
    "    # Вставляем столбец с номером полиса после ФИО\n",
    "    cols = list(new_df.columns)\n",
    "    cols.insert(cols.index('ФИО') + 1, cols.pop(cols.index('Номер полиса')))\n",
    "    new_df = new_df[cols]\n",
    "    \n",
    "    return new_df\n",
    "\n",
    "\n",
    "file_path = 'C:/Users/Acer/Python/задание_1_реестр.xlsx'\n",
    "transformed_df = read_and_transform_excel(file_path)\n",
    "\n",
    "# Скачиваем файл\n",
    "transformed_df.to_excel('реестр_вывод.xlsx', sheet_name = 'Вывод', index = False)"
   ]
  }
 ],
 "metadata": {
  "kernelspec": {
   "display_name": "Python 3 (ipykernel)",
   "language": "python",
   "name": "python3"
  },
  "language_info": {
   "codemirror_mode": {
    "name": "ipython",
    "version": 3
   },
   "file_extension": ".py",
   "mimetype": "text/x-python",
   "name": "python",
   "nbconvert_exporter": "python",
   "pygments_lexer": "ipython3",
   "version": "3.11.5"
  }
 },
 "nbformat": 4,
 "nbformat_minor": 5
}
